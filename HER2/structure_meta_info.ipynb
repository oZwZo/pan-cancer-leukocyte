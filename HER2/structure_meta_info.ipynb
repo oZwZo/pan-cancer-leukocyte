{
 "cells": [
  {
   "cell_type": "code",
   "execution_count": 1,
   "metadata": {},
   "outputs": [],
   "source": [
    "from PATH import data_path\n",
    "import os\n",
    "import pandas as pd\n",
    "import numpy as np\n",
    "import json\n",
    "path=os.path.join(data_path,'meta_data/')\n",
    "import matplotlib.pyplot as plt"
   ]
  },
  {
   "cell_type": "code",
   "execution_count": 41,
   "metadata": {},
   "outputs": [],
   "source": [
    "json_files = [os.path.join(path,file) for file in os.listdir(path)]\n",
    "json_files = list(filter(lambda x: '.json' in x,json_files))"
   ]
  },
  {
   "cell_type": "code",
   "execution_count": 18,
   "metadata": {},
   "outputs": [],
   "source": [
    "def extract_info(Dict):\n",
    "    '''\n",
    "    from json dict extract info and return in the ordre of \n",
    "    ['file_submitter','experimental_strategy','platform','workflow_version','analysis_submitter_id',\\\n",
    "    'analysis_id','workflow_type','entity_id','entity_type','entity_submitter_id']\n",
    "    '''\n",
    "    file_submitter = Dict['submitter_id']\n",
    "    \n",
    "    assert(len(Dict['analysis']['input_files'])==1)\n",
    "    infiles = Dict['analysis']['input_files'][0]\n",
    "    experimental_strategy = infiles['experimental_strategy']\n",
    "    platform = infiles['platform']\n",
    "    \n",
    "    workflow_version = Dict['analysis']['workflow_version']\n",
    "    analysis_submitter_id = Dict['analysis']['submitter_id']\n",
    "    analysis_id = Dict['analysis']['analysis_id']\n",
    "    workflow_type =  Dict['analysis']['workflow_type']\n",
    "    \n",
    "    assert(len(Dict['associated_entities'])==1)\n",
    "    as_entities = Dict['associated_entities'][0]\n",
    "    entity_id = as_entities['entity_id']\n",
    "    entity_type = as_entities['entity_type']\n",
    "    entity_submitter_id = as_entities['entity_submitter_id']\n",
    "    \n",
    "    return [file_submitter,experimental_strategy,platform,workflow_version,analysis_submitter_id,\\\n",
    "            analysis_id,workflow_type,entity_id,entity_type,entity_submitter_id]"
   ]
  },
  {
   "cell_type": "code",
   "execution_count": 21,
   "metadata": {},
   "outputs": [],
   "source": [
    "info_name = ['file_submitter','experimental_strategy','platform','workflow_version','analysis_submitter_id','analysis_id','workflow_type','entity_id','entity_type','entity_submitter_id']"
   ]
  },
  {
   "cell_type": "code",
   "execution_count": 34,
   "metadata": {},
   "outputs": [],
   "source": [
    "def json2DF(Json):\n",
    "    \n",
    "    meta_data = np.stack([extract_info(Dict) for Dict in Json])\n",
    "    meta_DF = pd.DataFrame(meta_data,columns=info_name)\n",
    "    return meta_DF.set_index('entity_submitter_id')"
   ]
  },
  {
   "cell_type": "code",
   "execution_count": 38,
   "metadata": {},
   "outputs": [],
   "source": [
    "merged_df = json2DF(j0)"
   ]
  },
  {
   "cell_type": "code",
   "execution_count": 42,
   "metadata": {},
   "outputs": [],
   "source": [
    "for i in range(1,len(json_files)):\n",
    "    with open(json_files[i],'r') as f:\n",
    "        Json = json.load(f)\n",
    "    \n",
    "    merged_df = merged_df.append(json2DF(Json))"
   ]
  },
  {
   "cell_type": "code",
   "execution_count": 43,
   "metadata": {},
   "outputs": [
    {
     "data": {
      "text/plain": [
       "(10537, 9)"
      ]
     },
     "execution_count": 43,
     "metadata": {},
     "output_type": "execute_result"
    }
   ],
   "source": [
    "merged_df.shape"
   ]
  },
  {
   "cell_type": "code",
   "execution_count": 44,
   "metadata": {},
   "outputs": [],
   "source": [
    "merged_df.to_csv(os.path.join(data_path,'meta_info.csv'),index=True)"
   ]
  },
  {
   "cell_type": "code",
   "execution_count": 46,
   "metadata": {},
   "outputs": [],
   "source": [
    "nmb_of_uniq = lambda x : len(np.unique(x))"
   ]
  },
  {
   "cell_type": "code",
   "execution_count": 47,
   "metadata": {},
   "outputs": [],
   "source": [
    "unique_statistics=[nmb_of_uniq(merged_df.iloc[:,i]) for i in range(merged_df.shape[1])]"
   ]
  },
  {
   "cell_type": "code",
   "execution_count": 48,
   "metadata": {},
   "outputs": [
    {
     "data": {
      "text/plain": [
       "[6267, 1, 1, 1, 6267, 6267, 1, 6267, 1]"
      ]
     },
     "execution_count": 48,
     "metadata": {},
     "output_type": "execute_result"
    }
   ],
   "source": [
    "unique_statistics"
   ]
  },
  {
   "cell_type": "code",
   "execution_count": 61,
   "metadata": {},
   "outputs": [
    {
     "name": "stdout",
     "output_type": "stream",
     "text": [
      "# of unique value file_submitter \t \t is  6267 \n",
      "# of unique value experimental_strategy \t \t is  1 \n",
      "# of unique value platform \t \t is  1 \n",
      "# of unique value workflow_version \t \t is  1 \n",
      "# of unique value analysis_submitter_id \t \t is  6267 \n",
      "# of unique value analysis_id \t \t is  6267 \n",
      "# of unique value workflow_type \t \t is  1 \n",
      "# of unique value entity_id \t \t is  6267 \n",
      "# of unique value entity_type \t \t is  1 \n"
     ]
    }
   ],
   "source": [
    "for i in range(len(info_name)):\n",
    "    print('# of unique value {} \\t \\t is  {} '.format(info_name[i],unique_statistics[i]))"
   ]
  },
  {
   "cell_type": "markdown",
   "metadata": {
    "collapsed": "true"
   },
   "source": [
    "## The DSC metric  \n",
    "\n",
    "Dispersion Separability Criterion (DSC) is a new metric that has been designed to quantify the amount of batch effect in the data. It is based on a similar metric, the Scatter Separability Criterion. DSC is defined as:\n",
    "\n",
    "$$DSC = D_b/D_w$$\n",
    "\n",
    "Where $D_b$ is a measure of dispersion between batches (or other groupings of the data), and $D_w$ is a measure of dispersion within batches. Therefore, DSC is a ratio of between batch dispersion vs. within batch dispersion. More precisely, $D_b$ is defined as:\n",
    "\n",
    "$$ D_b = \\sqrt{trace(S_b)} $$\n",
    "\n",
    "and $D_w$ is defined as:\n",
    "\n",
    "$$ D_w = \\sqrt{trace(S_w)} $$\n",
    "\n",
    "Where $S_b$ is the “between batch” scatter matrix, and Sw is the “within batch” scatter matrix defined in Dy et al, 2004 . $D_w$ can roughly be viewed as the average “distance” between samples within a batch and the batch mean, or centroid, whereas $D_b$ can roughly be viewed as the average distance between batch centroids and the global mean."
   ]
  },
  {
   "cell_type": "markdown",
   "metadata": {},
   "source": [
    "## Check sequence center"
   ]
  },
  {
   "cell_type": "code",
   "execution_count": 2,
   "metadata": {},
   "outputs": [],
   "source": [
    "pan_cancer = pd.read_csv(os.path.join(data_path,'pan_cancer.csv')).rename({'Unnamed: 0':'ID'},axis=1)"
   ]
  },
  {
   "cell_type": "code",
   "execution_count": 7,
   "metadata": {},
   "outputs": [],
   "source": [
    "get_center = lambda x: x.split('-')[-1]\n",
    "center_ls = pan_cancer['ID'].apply(get_center)"
   ]
  },
  {
   "cell_type": "markdown",
   "metadata": {},
   "source": [
    "#### separate data from different center"
   ]
  },
  {
   "cell_type": "code",
   "execution_count": 14,
   "metadata": {},
   "outputs": [],
   "source": [
    "for i in np.unique(center_ls):\n",
    "    # iter through 07 , 13 ,31\n",
    "    df = pan_cancer[center_ls == i].set_index('ID').transpose()  # transpose to gene in row  and  sample in columns\n",
    "    df.to_csv(os.path.join(data_path,'batch', 'center'+i+'.txt'),sep='\\t',index=True) # save to txt file"
   ]
  },
  {
   "cell_type": "markdown",
   "metadata": {},
   "source": [
    "#### statitics of center info"
   ]
  },
  {
   "cell_type": "code",
   "execution_count": 90,
   "metadata": {},
   "outputs": [],
   "source": [
    "stats =[np.sum(center_ls == i) for i in np.unique(center_ls)]\n",
    "label = np.unique(center_ls)"
   ]
  },
  {
   "cell_type": "code",
   "execution_count": 97,
   "metadata": {},
   "outputs": [
    {
     "data": {
      "image/png": "[encoded data removed]",
      "text/plain": [
       "<Figure size 576x504 with 1 Axes>"
      ]
     },
     "metadata": {
      "needs_background": "light"
     },
     "output_type": "display_data"
    }
   ],
   "source": [
    "plt.figure(figsize=(8,7))\n",
    "plt.bar(range(3),stats,width = 0.4);\n",
    "for i in range(3):\n",
    "    plt.text(i-0.1,stats[i]+100,s=stats[i]);\n",
    "plt.xticks(range(3),np.unique(center_ls),);"
   ]
  },
  {
   "cell_type": "code",
   "execution_count": null,
   "metadata": {},
   "outputs": [],
   "source": []
  }
 ],
 "metadata": {
  "kernelspec": {
   "display_name": "Python 3",
   "language": "python",
   "name": "python3"
  },
  "language_info": {
   "codemirror_mode": {
    "name": "ipython",
    "version": 3
   },
   "file_extension": ".py",
   "mimetype": "text/x-python",
   "name": "python",
   "nbconvert_exporter": "python",
   "pygments_lexer": "ipython3",
   "version": "3.7.6"
  }
 },
 "nbformat": 4,
 "nbformat_minor": 4
}
