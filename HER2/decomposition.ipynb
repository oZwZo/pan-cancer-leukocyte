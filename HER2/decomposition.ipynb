{
 "cells": [
  {
   "cell_type": "code",
   "execution_count": 1,
   "metadata": {},
   "outputs": [],
   "source": [
    "import os\n",
    "import pandas as pd\n",
    "import numpy as np\n",
    "from matplotlib import pyplot as plt\n",
    "from importlib import reload\n",
    "from PATH import data_path\n",
    "import utils\n",
    "import Model\n",
    "import re"
   ]
  },
  {
   "cell_type": "code",
   "execution_count": 2,
   "metadata": {},
   "outputs": [],
   "source": [
    "from sklearn.preprocessing import scale"
   ]
  },
  {
   "cell_type": "code",
   "execution_count": 3,
   "metadata": {},
   "outputs": [],
   "source": [
    "%matplotlib widget"
   ]
  },
  {
   "cell_type": "markdown",
   "metadata": {},
   "source": [
    "## get data"
   ]
  },
  {
   "cell_type": "code",
   "execution_count": 4,
   "metadata": {},
   "outputs": [],
   "source": [
    "DF,y = utils.get_known_sample(data_path,'ER')        # labeled data\n",
    "ER_to_pre = utils.get_unknown_sample(data_path,'ER') # unlabeled\n",
    "# make it array\n",
    "data = DF.values "
   ]
  },
  {
   "cell_type": "code",
   "execution_count": 5,
   "metadata": {},
   "outputs": [
    {
     "name": "stdout",
     "output_type": "stream",
     "text": [
      "scale by gene ERBB2 in column 13739\n"
     ]
    }
   ],
   "source": [
    "# three more preprocess\n",
    "data_norm = scale(data)\n",
    "data_log = scale(np.log(data+0.01))\n",
    "data_erbb2 = utils.scaling_by_gene(data,'ERBB2',column=DF.columns)\n",
    "# combine into a list\n",
    "datas = [data,data_norm,data_log,data_erbb2]"
   ]
  },
  {
   "cell_type": "markdown",
   "metadata": {},
   "source": [
    "##  used trained model to predict unknown data"
   ]
  },
  {
   "cell_type": "code",
   "execution_count": 6,
   "metadata": {},
   "outputs": [
    {
     "data": {
      "text/plain": [
       "<module 'logger' from '/home/ZwZ/script/HER2_prediction/logger.py'>"
      ]
     },
     "execution_count": 6,
     "metadata": {},
     "output_type": "execute_result"
    }
   ],
   "source": [
    "import logger\n",
    "reload(logger)"
   ]
  },
  {
   "cell_type": "code",
   "execution_count": 7,
   "metadata": {},
   "outputs": [],
   "source": [
    "logg = logger.Mlog('ER_result/RF.log')"
   ]
  },
  {
   "cell_type": "code",
   "execution_count": 8,
   "metadata": {},
   "outputs": [],
   "source": [
    "all_perform=logg.all_perform"
   ]
  },
  {
   "cell_type": "code",
   "execution_count": 9,
   "metadata": {},
   "outputs": [],
   "source": [
    "val_sum = all_perform[:,:,0] + all_perform[:,:,1]"
   ]
  },
  {
   "cell_type": "markdown",
   "metadata": {},
   "source": [
    "### pick the most performance"
   ]
  },
  {
   "cell_type": "code",
   "execution_count": 10,
   "metadata": {},
   "outputs": [
    {
     "data": {
      "text/plain": [
       "array([131, 131, 348,  19])"
      ]
     },
     "execution_count": 10,
     "metadata": {},
     "output_type": "execute_result"
    }
   ],
   "source": [
    "np.argmax(val_sum,axis=0)"
   ]
  },
  {
   "cell_type": "code",
   "execution_count": 11,
   "metadata": {},
   "outputs": [
    {
     "data": {
      "text/plain": [
       "array([2.     , 2.     , 2.     , 1.98459])"
      ]
     },
     "execution_count": 11,
     "metadata": {},
     "output_type": "execute_result"
    }
   ],
   "source": [
    "np.max(val_sum,axis=0)"
   ]
  },
  {
   "cell_type": "code",
   "execution_count": 12,
   "metadata": {},
   "outputs": [
    {
     "data": {
      "text/html": [
       "<div>\n",
       "<style scoped>\n",
       "    .dataframe tbody tr th:only-of-type {\n",
       "        vertical-align: middle;\n",
       "    }\n",
       "\n",
       "    .dataframe tbody tr th {\n",
       "        vertical-align: top;\n",
       "    }\n",
       "\n",
       "    .dataframe thead th {\n",
       "        text-align: right;\n",
       "    }\n",
       "</style>\n",
       "<table border=\"1\" class=\"dataframe\">\n",
       "  <thead>\n",
       "    <tr style=\"text-align: right;\">\n",
       "      <th></th>\n",
       "      <th>V_F1</th>\n",
       "      <th>V_AUCROC</th>\n",
       "      <th>T_F1</th>\n",
       "      <th>T_AUCROC</th>\n",
       "    </tr>\n",
       "    <tr>\n",
       "      <th>PREPROCESS</th>\n",
       "      <th></th>\n",
       "      <th></th>\n",
       "      <th></th>\n",
       "      <th></th>\n",
       "    </tr>\n",
       "  </thead>\n",
       "  <tbody>\n",
       "    <tr>\n",
       "      <th>raw data</th>\n",
       "      <td>0.96364</td>\n",
       "      <td>0.97685</td>\n",
       "      <td>0.94979</td>\n",
       "      <td>0.95877</td>\n",
       "    </tr>\n",
       "    <tr>\n",
       "      <th>log data</th>\n",
       "      <td>0.96364</td>\n",
       "      <td>0.98056</td>\n",
       "      <td>0.95378</td>\n",
       "      <td>0.94309</td>\n",
       "    </tr>\n",
       "    <tr>\n",
       "      <th>norm data</th>\n",
       "      <td>0.96364</td>\n",
       "      <td>0.98380</td>\n",
       "      <td>0.94737</td>\n",
       "      <td>0.94564</td>\n",
       "    </tr>\n",
       "    <tr>\n",
       "      <th>erbb2 data</th>\n",
       "      <td>0.95238</td>\n",
       "      <td>0.97824</td>\n",
       "      <td>0.92562</td>\n",
       "      <td>0.90340</td>\n",
       "    </tr>\n",
       "  </tbody>\n",
       "</table>\n",
       "</div>"
      ],
      "text/plain": [
       "               V_F1  V_AUCROC     T_F1  T_AUCROC\n",
       "PREPROCESS                                      \n",
       "raw data    0.96364   0.97685  0.94979   0.95877\n",
       "log data    0.96364   0.98056  0.95378   0.94309\n",
       "norm data   0.96364   0.98380  0.94737   0.94564\n",
       "erbb2 data  0.95238   0.97824  0.92562   0.90340"
      ]
     },
     "execution_count": 12,
     "metadata": {},
     "output_type": "execute_result"
    }
   ],
   "source": [
    "logg.performance_of(214)"
   ]
  },
  {
   "cell_type": "code",
   "execution_count": 13,
   "metadata": {},
   "outputs": [
    {
     "data": {
      "text/html": [
       "<div>\n",
       "<style scoped>\n",
       "    .dataframe tbody tr th:only-of-type {\n",
       "        vertical-align: middle;\n",
       "    }\n",
       "\n",
       "    .dataframe tbody tr th {\n",
       "        vertical-align: top;\n",
       "    }\n",
       "\n",
       "    .dataframe thead th {\n",
       "        text-align: right;\n",
       "    }\n",
       "</style>\n",
       "<table border=\"1\" class=\"dataframe\">\n",
       "  <thead>\n",
       "    <tr style=\"text-align: right;\">\n",
       "      <th></th>\n",
       "      <th>V_F1</th>\n",
       "      <th>V_AUCROC</th>\n",
       "      <th>T_F1</th>\n",
       "      <th>T_AUCROC</th>\n",
       "    </tr>\n",
       "    <tr>\n",
       "      <th>PREPROCESS</th>\n",
       "      <th></th>\n",
       "      <th></th>\n",
       "      <th></th>\n",
       "      <th></th>\n",
       "    </tr>\n",
       "  </thead>\n",
       "  <tbody>\n",
       "    <tr>\n",
       "      <th>raw data</th>\n",
       "      <td>0.95726</td>\n",
       "      <td>0.96667</td>\n",
       "      <td>0.95547</td>\n",
       "      <td>0.95130</td>\n",
       "    </tr>\n",
       "    <tr>\n",
       "      <th>log data</th>\n",
       "      <td>0.96610</td>\n",
       "      <td>0.96726</td>\n",
       "      <td>0.95635</td>\n",
       "      <td>0.94655</td>\n",
       "    </tr>\n",
       "    <tr>\n",
       "      <th>norm data</th>\n",
       "      <td>0.95000</td>\n",
       "      <td>0.97560</td>\n",
       "      <td>0.96177</td>\n",
       "      <td>0.95013</td>\n",
       "    </tr>\n",
       "    <tr>\n",
       "      <th>erbb2 data</th>\n",
       "      <td>0.91667</td>\n",
       "      <td>0.89583</td>\n",
       "      <td>0.92495</td>\n",
       "      <td>0.93549</td>\n",
       "    </tr>\n",
       "  </tbody>\n",
       "</table>\n",
       "</div>"
      ],
      "text/plain": [
       "               V_F1  V_AUCROC     T_F1  T_AUCROC\n",
       "PREPROCESS                                      \n",
       "raw data    0.95726   0.96667  0.95547   0.95130\n",
       "log data    0.96610   0.96726  0.95635   0.94655\n",
       "norm data   0.95000   0.97560  0.96177   0.95013\n",
       "erbb2 data  0.91667   0.89583  0.92495   0.93549"
      ]
     },
     "execution_count": 13,
     "metadata": {},
     "output_type": "execute_result"
    }
   ],
   "source": [
    "logg.performance_of(290)"
   ]
  },
  {
   "cell_type": "code",
   "execution_count": 14,
   "metadata": {},
   "outputs": [
    {
     "data": {
      "text/html": [
       "<div>\n",
       "<style scoped>\n",
       "    .dataframe tbody tr th:only-of-type {\n",
       "        vertical-align: middle;\n",
       "    }\n",
       "\n",
       "    .dataframe tbody tr th {\n",
       "        vertical-align: top;\n",
       "    }\n",
       "\n",
       "    .dataframe thead th {\n",
       "        text-align: right;\n",
       "    }\n",
       "</style>\n",
       "<table border=\"1\" class=\"dataframe\">\n",
       "  <thead>\n",
       "    <tr style=\"text-align: right;\">\n",
       "      <th></th>\n",
       "      <th>V_F1</th>\n",
       "      <th>V_AUCROC</th>\n",
       "      <th>T_F1</th>\n",
       "      <th>T_AUCROC</th>\n",
       "    </tr>\n",
       "    <tr>\n",
       "      <th>PREPROCESS</th>\n",
       "      <th></th>\n",
       "      <th></th>\n",
       "      <th></th>\n",
       "      <th></th>\n",
       "    </tr>\n",
       "  </thead>\n",
       "  <tbody>\n",
       "    <tr>\n",
       "      <th>raw data</th>\n",
       "      <td>0.93333</td>\n",
       "      <td>0.89514</td>\n",
       "      <td>0.94501</td>\n",
       "      <td>0.94312</td>\n",
       "    </tr>\n",
       "    <tr>\n",
       "      <th>log data</th>\n",
       "      <td>0.92453</td>\n",
       "      <td>0.89045</td>\n",
       "      <td>0.93522</td>\n",
       "      <td>0.94472</td>\n",
       "    </tr>\n",
       "    <tr>\n",
       "      <th>norm data</th>\n",
       "      <td>0.91589</td>\n",
       "      <td>0.89514</td>\n",
       "      <td>0.94400</td>\n",
       "      <td>0.93585</td>\n",
       "    </tr>\n",
       "    <tr>\n",
       "      <th>erbb2 data</th>\n",
       "      <td>0.87037</td>\n",
       "      <td>0.86104</td>\n",
       "      <td>0.91849</td>\n",
       "      <td>0.91216</td>\n",
       "    </tr>\n",
       "  </tbody>\n",
       "</table>\n",
       "</div>"
      ],
      "text/plain": [
       "               V_F1  V_AUCROC     T_F1  T_AUCROC\n",
       "PREPROCESS                                      \n",
       "raw data    0.93333   0.89514  0.94501   0.94312\n",
       "log data    0.92453   0.89045  0.93522   0.94472\n",
       "norm data   0.91589   0.89514  0.94400   0.93585\n",
       "erbb2 data  0.87037   0.86104  0.91849   0.91216"
      ]
     },
     "execution_count": 14,
     "metadata": {},
     "output_type": "execute_result"
    }
   ],
   "source": [
    "logg.performance_of(194)"
   ]
  },
  {
   "cell_type": "markdown",
   "metadata": {},
   "source": [
    "## PICK 290 !!"
   ]
  },
  {
   "cell_type": "code",
   "execution_count": 15,
   "metadata": {},
   "outputs": [],
   "source": [
    "seed = logg.seed_of(290)"
   ]
  },
  {
   "cell_type": "markdown",
   "metadata": {},
   "source": [
    "## PCA decomposition"
   ]
  },
  {
   "cell_type": "code",
   "execution_count": 16,
   "metadata": {},
   "outputs": [],
   "source": [
    "from sklearn import discriminant_analysis as DA"
   ]
  },
  {
   "cell_type": "code",
   "execution_count": 17,
   "metadata": {},
   "outputs": [],
   "source": [
    "from sklearn.decomposition import PCA,KernelPCA"
   ]
  },
  {
   "cell_type": "code",
   "execution_count": 18,
   "metadata": {},
   "outputs": [],
   "source": [
    "DF,y = utils.get_known_sample(data_path,'HER2')        # labeled data\n",
    "ER_to_pre = utils.get_unknown_sample(data_path,'HER2') # unlabeled\n",
    "# make it array\n",
    "data = DF.values "
   ]
  },
  {
   "cell_type": "code",
   "execution_count": 19,
   "metadata": {},
   "outputs": [
    {
     "name": "stdout",
     "output_type": "stream",
     "text": [
      "scale by gene ERBB2 in column 13739\n"
     ]
    },
    {
     "name": "stderr",
     "output_type": "stream",
     "text": [
      "/home/ZwZ/anaconda3/lib/python3.7/site-packages/sklearn/preprocessing/_data.py:190: UserWarning: Numerical issues were encountered when scaling the data and might not be solved. The standard deviation of the data is probably very close to 0. \n",
      "  warnings.warn(\"Numerical issues were encountered \"\n"
     ]
    }
   ],
   "source": [
    "# three more preprocess\n",
    "data_norm = scale(data)\n",
    "data_log = scale(np.log(data+0.01))\n",
    "data_erbb2 = utils.scaling_by_gene(data,'ERBB2',column=DF.columns)\n",
    "# combine into a list\n",
    "datas = [data,data_norm,data_log,data_erbb2]"
   ]
  },
  {
   "cell_type": "code",
   "execution_count": 20,
   "metadata": {},
   "outputs": [
    {
     "data": {
      "application/vnd.jupyter.widget-view+json": {
       "model_id": "52813b04f48d43959651d01c2ba52c12",
       "version_major": 2,
       "version_minor": 0
      },
      "text/plain": [
       "Canvas(toolbar=Toolbar(toolitems=[('Home', 'Reset original view', 'home', 'home'), ('Back', 'Back to previous …"
      ]
     },
     "metadata": {},
     "output_type": "display_data"
    }
   ],
   "source": [
    "\n",
    "\n",
    "#data_2d = KernelPCA(n_components=2,kernel='rbf').fit_transform(data_log)\n",
    "\n",
    "#data_2d=lad_ls[0]._model.transform(data)\n",
    "\n",
    "data_2d=PCA(n_components=2).fit_transform(data_log)\n",
    "\n",
    "plt.figure(figsize=(12,10))\n",
    "plt.scatter(data_2d[:,0],data_2d[:,1],c=y,s=8,marker='X');"
   ]
  },
  {
   "cell_type": "markdown",
   "metadata": {},
   "source": [
    "## t-SNE"
   ]
  },
  {
   "cell_type": "code",
   "execution_count": 21,
   "metadata": {},
   "outputs": [],
   "source": [
    "from sklearn.manifold import TSNE"
   ]
  },
  {
   "cell_type": "code",
   "execution_count": 22,
   "metadata": {},
   "outputs": [],
   "source": [
    "from sklearn.decomposition import TruncatedSVD"
   ]
  },
  {
   "cell_type": "code",
   "execution_count": 23,
   "metadata": {},
   "outputs": [],
   "source": [
    "#data_pca = PCA(n_components=50).fit_transform(data_erbb2)\n",
    "data_pca = KernelPCA(n_components=2,kernel='rbf').fit_transform(data_erbb2)\n",
    "#data_pca = TruncatedSVD(n_components=50).fit_transform(data)\n",
    "data_sne = np.stack([TSNE(perplexity=i,).fit_transform(data_pca) for i in range(0,55,5)])"
   ]
  },
  {
   "cell_type": "code",
   "execution_count": 118,
   "metadata": {},
   "outputs": [],
   "source": [
    "np.save('kpca_tsne_erbb2_p5-50.npy',data_sne)"
   ]
  },
  {
   "cell_type": "code",
   "execution_count": 24,
   "metadata": {},
   "outputs": [
    {
     "data": {
      "text/plain": [
       "(11, 611, 2)"
      ]
     },
     "execution_count": 24,
     "metadata": {},
     "output_type": "execute_result"
    }
   ],
   "source": [
    "data_sne.shape"
   ]
  },
  {
   "cell_type": "code",
   "execution_count": 29,
   "metadata": {},
   "outputs": [
    {
     "data": {
      "application/vnd.jupyter.widget-view+json": {
       "model_id": "4d9730b9ee7042009569dd3a6b8314be",
       "version_major": 2,
       "version_minor": 0
      },
      "text/plain": [
       "Canvas(toolbar=Toolbar(toolitems=[('Home', 'Reset original view', 'home', 'home'), ('Back', 'Back to previous …"
      ]
     },
     "metadata": {},
     "output_type": "display_data"
    }
   ],
   "source": [
    "plt.figure()\n",
    "\n",
    "for i in range(data_sne.shape[0]):\n",
    "    plt.subplot(4,3,1+i)\n",
    "    plt.scatter(data_sne[i][:,0],data_sne[i][:,1],c=y,s=3);"
   ]
  },
  {
   "cell_type": "code",
   "execution_count": null,
   "metadata": {},
   "outputs": [],
   "source": []
  }
 ],
 "metadata": {
  "kernelspec": {
   "display_name": "Python 3",
   "language": "python",
   "name": "python3"
  },
  "language_info": {
   "codemirror_mode": {
    "name": "ipython",
    "version": 3
   },
   "file_extension": ".py",
   "mimetype": "text/x-python",
   "name": "python",
   "nbconvert_exporter": "python",
   "pygments_lexer": "ipython3",
   "version": "3.7.6"
  }
 },
 "nbformat": 4,
 "nbformat_minor": 4
}
