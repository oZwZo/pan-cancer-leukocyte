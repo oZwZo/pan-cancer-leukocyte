{
 "cells": [
  {
   "cell_type": "code",
   "execution_count": 3,
   "metadata": {},
   "outputs": [],
   "source": [
    "import os\n",
    "import pandas as pd\n",
    "import numpy as np\n",
    "from matplotlib import pyplot as plt\n",
    "from importlib import reload\n",
    "from PATH import data_path\n",
    "from utils import *\n",
    "from Model import *\n",
    "import logger\n",
    "import utils\n",
    "import re\n",
    "%matplotlib widget\n",
    "\n",
    "from sklearn.preprocessing import scale\n",
    "\n",
    "from sklearn.discriminant_analysis import LinearDiscriminantAnalysis as LDA\n",
    "from sklearn.linear_model import LogisticRegression as LR\n",
    "from sklearn.ensemble import RandomForestClassifier as RF"
   ]
  },
  {
   "cell_type": "code",
   "execution_count": 16,
   "metadata": {},
   "outputs": [
    {
     "data": {
      "text/plain": [
       "<module 'logger' from '/home/ZwZ/script/HER2_prediction/logger.py'>"
      ]
     },
     "execution_count": 16,
     "metadata": {},
     "output_type": "execute_result"
    }
   ],
   "source": [
    "reload(logger)"
   ]
  },
  {
   "cell_type": "code",
   "execution_count": 6,
   "metadata": {},
   "outputs": [],
   "source": [
    "log_dir = 'PR_result/'\n",
    "\n",
    "log_path = list(filter(lambda x: 'log' in x,os.listdir(log_dir)))\n",
    "log_path = [os.path.join(log_dir,file) for file in log_path]\n",
    "\n",
    "log_path"
   ]
  },
  {
   "cell_type": "code",
   "execution_count": 22,
   "metadata": {},
   "outputs": [],
   "source": [
    "# test set take up twice more data than val set\n",
    "def show_best(mlog):\n",
    "    Mm_sum=np.add(mlog.val_f1auc_sum,3*mlog.test_f1auc_sum)\n",
    "    print('raw log norm erbb2 \\n')\n",
    "    print(np.argmax(Mm_sum,axis=0))"
   ]
  },
  {
   "cell_type": "markdown",
   "metadata": {},
   "source": [
    "# data"
   ]
  },
  {
   "cell_type": "code",
   "execution_count": 9,
   "metadata": {},
   "outputs": [],
   "source": [
    "DF,y = get_known_sample(data_path,'PR')\n",
    "unknown_df = get_unknown_sample(data_path,'PR')"
   ]
  },
  {
   "cell_type": "code",
   "execution_count": 28,
   "metadata": {},
   "outputs": [
    {
     "name": "stdout",
     "output_type": "stream",
     "text": [
      "scale by gene ERBB2 in column 13739\n",
      "scale by gene ERBB2 in column 13739\n"
     ]
    },
    {
     "name": "stderr",
     "output_type": "stream",
     "text": [
      "/home/ZwZ/anaconda3/lib/python3.7/site-packages/sklearn/preprocessing/_data.py:190: UserWarning: Numerical issues were encountered when scaling the data and might not be solved. The standard deviation of the data is probably very close to 0. \n",
      "  warnings.warn(\"Numerical issues were encountered \"\n"
     ]
    }
   ],
   "source": [
    "datas = triple_preprocess(DF)\n",
    "data_pre = triple_preprocess(unknown_df)"
   ]
  },
  {
   "cell_type": "markdown",
   "metadata": {},
   "source": [
    "## logger"
   ]
  },
  {
   "cell_type": "code",
   "execution_count": 96,
   "metadata": {},
   "outputs": [],
   "source": [
    "RF_log=logger.Mlog(log_path[2],interval=25+16,seed=False)"
   ]
  },
  {
   "cell_type": "markdown",
   "metadata": {},
   "source": [
    "# compare the evaluation"
   ]
  },
  {
   "cell_type": "markdown",
   "metadata": {
    "collapsed": "true"
   },
   "source": [
    "## LR"
   ]
  },
  {
   "cell_type": "code",
   "execution_count": 98,
   "metadata": {},
   "outputs": [
    {
     "name": "stdout",
     "output_type": "stream",
     "text": [
      "raw log norm erbb2\n",
      "\n",
      "[ 81 540 540 328]\n"
     ]
    }
   ],
   "source": [
    "show_best(LR_log)"
   ]
  },
  {
   "cell_type": "code",
   "execution_count": 63,
   "metadata": {},
   "outputs": [
    {
     "data": {
      "text/html": [
       "<div>\n",
       "<style scoped>\n",
       "    .dataframe tbody tr th:only-of-type {\n",
       "        vertical-align: middle;\n",
       "    }\n",
       "\n",
       "    .dataframe tbody tr th {\n",
       "        vertical-align: top;\n",
       "    }\n",
       "\n",
       "    .dataframe thead th {\n",
       "        text-align: right;\n",
       "    }\n",
       "</style>\n",
       "<table border=\"1\" class=\"dataframe\">\n",
       "  <thead>\n",
       "    <tr style=\"text-align: right;\">\n",
       "      <th></th>\n",
       "      <th>V_F1</th>\n",
       "      <th>V_AUCROC</th>\n",
       "      <th>T_F1</th>\n",
       "      <th>T_AUCROC</th>\n",
       "    </tr>\n",
       "    <tr>\n",
       "      <th>PREPROCESS</th>\n",
       "      <th></th>\n",
       "      <th></th>\n",
       "      <th></th>\n",
       "      <th></th>\n",
       "    </tr>\n",
       "  </thead>\n",
       "  <tbody>\n",
       "    <tr>\n",
       "      <th>raw data</th>\n",
       "      <td>0.97521</td>\n",
       "      <td>0.99762</td>\n",
       "      <td>0.94902</td>\n",
       "      <td>0.93818</td>\n",
       "    </tr>\n",
       "    <tr>\n",
       "      <th>log data</th>\n",
       "      <td>0.99174</td>\n",
       "      <td>1.00000</td>\n",
       "      <td>0.96296</td>\n",
       "      <td>0.95731</td>\n",
       "    </tr>\n",
       "    <tr>\n",
       "      <th>norm data</th>\n",
       "      <td>0.99174</td>\n",
       "      <td>1.00000</td>\n",
       "      <td>0.95720</td>\n",
       "      <td>0.95392</td>\n",
       "    </tr>\n",
       "    <tr>\n",
       "      <th>erbb2 data</th>\n",
       "      <td>0.89474</td>\n",
       "      <td>0.90476</td>\n",
       "      <td>0.84342</td>\n",
       "      <td>0.80678</td>\n",
       "    </tr>\n",
       "  </tbody>\n",
       "</table>\n",
       "</div>"
      ],
      "text/plain": [
       "               V_F1  V_AUCROC     T_F1  T_AUCROC\n",
       "PREPROCESS                                      \n",
       "raw data    0.97521   0.99762  0.94902   0.93818\n",
       "log data    0.99174   1.00000  0.96296   0.95731\n",
       "norm data   0.99174   1.00000  0.95720   0.95392\n",
       "erbb2 data  0.89474   0.90476  0.84342   0.80678"
      ]
     },
     "execution_count": 63,
     "metadata": {},
     "output_type": "execute_result"
    }
   ],
   "source": [
    "LR_log.performance_of(81)"
   ]
  },
  {
   "cell_type": "code",
   "execution_count": 99,
   "metadata": {},
   "outputs": [],
   "source": [
    "LR_seed = LR_log.seed_of(81)"
   ]
  },
  {
   "cell_type": "code",
   "execution_count": 119,
   "metadata": {},
   "outputs": [
    {
     "name": "stdout",
     "output_type": "stream",
     "text": [
      "------------------------------------\n",
      "Data Set    Raio of positive Sample\n",
      "------------------------------------\n",
      " whole\t | \t 0.7731568998109641\n",
      " train\t | \t 0.7717717717717718\n",
      " val\t | \t 0.7972972972972973\n",
      " test\t | \t 0.7704402515723271\n",
      "------------------------------------\n"
     ]
    }
   ],
   "source": [
    "set_ls,idx_ls = spliting_datas_by_the_same(datas,y,True,**{'idx':y,'random_state':LR_seed})"
   ]
  },
  {
   "cell_type": "code",
   "execution_count": 123,
   "metadata": {},
   "outputs": [],
   "source": [
    "LR_model = single_model(DataSet=set_ls[1],model=LR,**LR_arg)"
   ]
  },
  {
   "cell_type": "code",
   "execution_count": 128,
   "metadata": {},
   "outputs": [
    {
     "data": {
      "text/plain": [
       "(0.9500698909700867, 0.943089430894309)"
      ]
     },
     "execution_count": 128,
     "metadata": {},
     "output_type": "execute_result"
    }
   ],
   "source": [
    "LR_model.get_metrics(1,True)[0:2]"
   ]
  },
  {
   "cell_type": "markdown",
   "metadata": {
    "collapsed": "true"
   },
   "source": [
    "## LDA log"
   ]
  },
  {
   "cell_type": "code",
   "execution_count": 73,
   "metadata": {},
   "outputs": [],
   "source": [
    "LDA_log = logger.Mlog(log_path[0])"
   ]
  },
  {
   "cell_type": "code",
   "execution_count": 92,
   "metadata": {},
   "outputs": [
    {
     "name": "stdout",
     "output_type": "stream",
     "text": [
      "raw log norm erbb2\n",
      "\n",
      "[767 993 518  80]\n"
     ]
    }
   ],
   "source": [
    "show_best(LDA_log)"
   ]
  },
  {
   "cell_type": "code",
   "execution_count": 76,
   "metadata": {},
   "outputs": [
    {
     "data": {
      "text/html": [
       "<div>\n",
       "<style scoped>\n",
       "    .dataframe tbody tr th:only-of-type {\n",
       "        vertical-align: middle;\n",
       "    }\n",
       "\n",
       "    .dataframe tbody tr th {\n",
       "        vertical-align: top;\n",
       "    }\n",
       "\n",
       "    .dataframe thead th {\n",
       "        text-align: right;\n",
       "    }\n",
       "</style>\n",
       "<table border=\"1\" class=\"dataframe\">\n",
       "  <thead>\n",
       "    <tr style=\"text-align: right;\">\n",
       "      <th></th>\n",
       "      <th>V_F1</th>\n",
       "      <th>V_AUCROC</th>\n",
       "      <th>T_F1</th>\n",
       "      <th>T_AUCROC</th>\n",
       "    </tr>\n",
       "    <tr>\n",
       "      <th>PREPROCESS</th>\n",
       "      <th></th>\n",
       "      <th></th>\n",
       "      <th></th>\n",
       "      <th></th>\n",
       "    </tr>\n",
       "  </thead>\n",
       "  <tbody>\n",
       "    <tr>\n",
       "      <th>raw data</th>\n",
       "      <td>0.96667</td>\n",
       "      <td>0.96595</td>\n",
       "      <td>0.97456</td>\n",
       "      <td>0.96327</td>\n",
       "    </tr>\n",
       "    <tr>\n",
       "      <th>log data</th>\n",
       "      <td>0.97561</td>\n",
       "      <td>0.98865</td>\n",
       "      <td>0.97476</td>\n",
       "      <td>0.96941</td>\n",
       "    </tr>\n",
       "    <tr>\n",
       "      <th>norm data</th>\n",
       "      <td>0.95798</td>\n",
       "      <td>0.94956</td>\n",
       "      <td>0.96047</td>\n",
       "      <td>0.93756</td>\n",
       "    </tr>\n",
       "    <tr>\n",
       "      <th>erbb2 data</th>\n",
       "      <td>0.73077</td>\n",
       "      <td>0.67528</td>\n",
       "      <td>0.69880</td>\n",
       "      <td>0.71176</td>\n",
       "    </tr>\n",
       "  </tbody>\n",
       "</table>\n",
       "</div>"
      ],
      "text/plain": [
       "               V_F1  V_AUCROC     T_F1  T_AUCROC\n",
       "PREPROCESS                                      \n",
       "raw data    0.96667   0.96595  0.97456   0.96327\n",
       "log data    0.97561   0.98865  0.97476   0.96941\n",
       "norm data   0.95798   0.94956  0.96047   0.93756\n",
       "erbb2 data  0.73077   0.67528  0.69880   0.71176"
      ]
     },
     "execution_count": 76,
     "metadata": {},
     "output_type": "execute_result"
    }
   ],
   "source": [
    "LDA_log.performance_of(993)"
   ]
  },
  {
   "cell_type": "code",
   "execution_count": 177,
   "metadata": {},
   "outputs": [],
   "source": [
    "LDA_seed=LDA_log.seed_of(767)"
   ]
  },
  {
   "cell_type": "code",
   "execution_count": 178,
   "metadata": {},
   "outputs": [
    {
     "name": "stdout",
     "output_type": "stream",
     "text": [
      "------------------------------------\n",
      "Data Set    Raio of positive Sample\n",
      "------------------------------------\n",
      " whole\t | \t 0.7731568998109641\n",
      " train\t | \t 0.7612612612612613\n",
      " val\t | \t 0.8378378378378378\n",
      " test\t | \t 0.7830188679245284\n",
      "------------------------------------\n"
     ]
    }
   ],
   "source": [
    "set_ls,idx_ls = spliting_datas_by_the_same(datas,y,True,**{'idx':y,'random_state':LDA_seed})"
   ]
  },
  {
   "cell_type": "code",
   "execution_count": 179,
   "metadata": {},
   "outputs": [],
   "source": [
    "LDA_model = single_model(DataSet=set_ls[1],model=LDA)"
   ]
  },
  {
   "cell_type": "markdown",
   "metadata": {},
   "source": [
    "## RF log"
   ]
  },
  {
   "cell_type": "code",
   "execution_count": 23,
   "metadata": {},
   "outputs": [],
   "source": [
    "RF_log = logger.Mlog(log_path[1],seed=True)"
   ]
  },
  {
   "cell_type": "code",
   "execution_count": 24,
   "metadata": {},
   "outputs": [
    {
     "name": "stdout",
     "output_type": "stream",
     "text": [
      "raw log norm erbb2 \n",
      "\n",
      "[307 621 514 831]\n"
     ]
    }
   ],
   "source": [
    "show_best(RF_log)"
   ]
  },
  {
   "cell_type": "code",
   "execution_count": 25,
   "metadata": {},
   "outputs": [],
   "source": [
    "RF_seed =  RF_log.all_seed[[307,621,514,831]]"
   ]
  },
  {
   "cell_type": "code",
   "execution_count": 26,
   "metadata": {},
   "outputs": [
    {
     "data": {
      "text/plain": [
       "array([2472636, 5719515,  490789, 9714761])"
      ]
     },
     "execution_count": 26,
     "metadata": {},
     "output_type": "execute_result"
    }
   ],
   "source": [
    "RF_seed"
   ]
  },
  {
   "cell_type": "code",
   "execution_count": 29,
   "metadata": {
    "collapsed": true,
    "jupyter": {
     "outputs_hidden": true
    }
   },
   "outputs": [
    {
     "name": "stdout",
     "output_type": "stream",
     "text": [
      "------------------------------------\n",
      "Data Set    Raio of positive Sample\n",
      "------------------------------------\n",
      " whole\t | \t 0.671090047393365\n",
      " train\t | \t 0.6566265060240963\n",
      " val\t | \t 0.6891891891891891\n",
      " test\t | \t 0.6971608832807571\n",
      "------------------------------------\n",
      "------------------------------------\n",
      "Data Set    Raio of positive Sample\n",
      "------------------------------------\n",
      " whole\t | \t 0.671090047393365\n",
      " train\t | \t 0.6521084337349398\n",
      " val\t | \t 0.7162162162162162\n",
      " test\t | \t 0.7003154574132492\n",
      "------------------------------------\n",
      "------------------------------------\n",
      "Data Set    Raio of positive Sample\n",
      "------------------------------------\n",
      " whole\t | \t 0.671090047393365\n",
      " train\t | \t 0.6596385542168675\n",
      " val\t | \t 0.7432432432432432\n",
      " test\t | \t 0.6782334384858044\n",
      "------------------------------------\n",
      "------------------------------------\n",
      "Data Set    Raio of positive Sample\n",
      "------------------------------------\n",
      " whole\t | \t 0.671090047393365\n",
      " train\t | \t 0.6656626506024096\n",
      " val\t | \t 0.6756756756756757\n",
      " test\t | \t 0.6813880126182965\n",
      "------------------------------------\n"
     ]
    }
   ],
   "source": [
    "Set_ls = []\n",
    "for i in range(len(RF_seed)):\n",
    "    seed = RF_seed[i]\n",
    "    set_ls,idx_ls = spliting_datas_by_the_same(datas,y,True,**{'idx':y,'random_state':seed})\n",
    "    Set_ls.append(set_ls[i])"
   ]
  },
  {
   "cell_type": "code",
   "execution_count": 30,
   "metadata": {},
   "outputs": [],
   "source": [
    "model_ls = [single_model(DataSet=Set_ls[i],model=RF,**RF_arg) for i in range(4)]"
   ]
  },
  {
   "cell_type": "markdown",
   "metadata": {},
   "source": [
    "# predict"
   ]
  },
  {
   "cell_type": "code",
   "execution_count": 32,
   "metadata": {},
   "outputs": [],
   "source": [
    "predict = np.array([model_ls[i]._model.predict(data_pre[i]) for i in range(4)]).T"
   ]
  },
  {
   "cell_type": "code",
   "execution_count": 33,
   "metadata": {},
   "outputs": [],
   "source": [
    "predict_sum=np.sum(predict,axis=1)"
   ]
  },
  {
   "cell_type": "code",
   "execution_count": 35,
   "metadata": {},
   "outputs": [],
   "source": [
    "result_dic ={4:1,3:1,2:np.random.randint(0,2,1).item(),1:0,0:0}"
   ]
  },
  {
   "cell_type": "code",
   "execution_count": 42,
   "metadata": {},
   "outputs": [
    {
     "data": {
      "text/plain": [
       "array([0, 0, 4, 3, 1, 3, 1, 3, 3, 4, 3, 2, 0, 2, 2, 0, 4, 4, 0, 1, 4, 4,\n",
       "       4, 2, 3, 0, 3, 2, 2, 3, 4, 3, 4, 0, 4, 0, 4, 4, 4, 1, 4, 1, 3, 0,\n",
       "       0, 2, 0, 4, 0, 4, 3, 3, 4])"
      ]
     },
     "execution_count": 42,
     "metadata": {},
     "output_type": "execute_result"
    }
   ],
   "source": [
    "predict_sum"
   ]
  },
  {
   "cell_type": "code",
   "execution_count": 36,
   "metadata": {},
   "outputs": [],
   "source": [
    "final_result = [result_dic[i] for i in predict_sum]"
   ]
  },
  {
   "cell_type": "code",
   "execution_count": 39,
   "metadata": {},
   "outputs": [],
   "source": [
    "pre_DF=pd.DataFrame(final_result,index=unknown_df.index,columns=['PR_predict'])"
   ]
  },
  {
   "cell_type": "code",
   "execution_count": 40,
   "metadata": {},
   "outputs": [],
   "source": [
    "pre_DF.to_csv('PR_result/PR_predict_result.csv')"
   ]
  },
  {
   "cell_type": "code",
   "execution_count": null,
   "metadata": {},
   "outputs": [],
   "source": []
  }
 ],
 "metadata": {
  "kernelspec": {
   "display_name": "Python 3",
   "language": "python",
   "name": "python3"
  },
  "language_info": {
   "codemirror_mode": {
    "name": "ipython",
    "version": 3
   },
   "file_extension": ".py",
   "mimetype": "text/x-python",
   "name": "python",
   "nbconvert_exporter": "python",
   "pygments_lexer": "ipython3",
   "version": "3.7.6"
  }
 },
 "nbformat": 4,
 "nbformat_minor": 4
}
