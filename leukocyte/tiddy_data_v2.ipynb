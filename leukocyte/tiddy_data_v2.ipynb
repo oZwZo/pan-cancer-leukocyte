{
 "cells": [
  {
   "cell_type": "markdown",
   "metadata": {},
   "source": [
    "<font size=6><center>**updated kidney data**</font>"
   ]
  },
  {
   "cell_type": "markdown",
   "metadata": {},
   "source": [
    "# read data "
   ]
  },
  {
   "cell_type": "code",
   "execution_count": 1,
   "metadata": {},
   "outputs": [],
   "source": [
    "import os,sys"
   ]
  },
  {
   "cell_type": "code",
   "execution_count": 2,
   "metadata": {},
   "outputs": [],
   "source": [
    "import numpy as np\n",
    "import pandas as pd\n",
    "from matplotlib import pyplot as plt\n",
    "from matplotlib import cm\n",
    "from IPython.core.pylabtools import figsize"
   ]
  },
  {
   "cell_type": "code",
   "execution_count": 3,
   "metadata": {},
   "outputs": [],
   "source": [
    "from src import PATH\n",
    "from src import leukocyte_cluster\n",
    "from src import utils"
   ]
  },
  {
   "cell_type": "code",
   "execution_count": 4,
   "metadata": {},
   "outputs": [],
   "source": [
    "# compare to leukocyte_ratio2\n",
    "old_path = '/home/shuying/Documents/ZwZ/pan-cancer-leukocyte/data/leukocyte_ratio'"
   ]
  },
  {
   "cell_type": "code",
   "execution_count": 6,
   "metadata": {},
   "outputs": [
    {
     "data": {
      "text/html": [
       "<div>\n",
       "<style scoped>\n",
       "    .dataframe tbody tr th:only-of-type {\n",
       "        vertical-align: middle;\n",
       "    }\n",
       "\n",
       "    .dataframe tbody tr th {\n",
       "        vertical-align: top;\n",
       "    }\n",
       "\n",
       "    .dataframe thead th {\n",
       "        text-align: right;\n",
       "    }\n",
       "</style>\n",
       "<table border=\"1\" class=\"dataframe\">\n",
       "  <thead>\n",
       "    <tr style=\"text-align: right;\">\n",
       "      <th></th>\n",
       "      <th>B cells naive</th>\n",
       "      <th>B cells memory</th>\n",
       "      <th>Plasma cells</th>\n",
       "      <th>T cells CD8</th>\n",
       "      <th>T cells CD4 naive</th>\n",
       "      <th>T cells CD4 memory resting</th>\n",
       "      <th>T cells CD4 memory activated</th>\n",
       "      <th>T cells follicular helper</th>\n",
       "      <th>T cells regulatory (Tregs)</th>\n",
       "      <th>T cells gamma delta</th>\n",
       "      <th>...</th>\n",
       "      <th>Monocytes</th>\n",
       "      <th>Macrophages M0</th>\n",
       "      <th>Macrophages M1</th>\n",
       "      <th>Macrophages M2</th>\n",
       "      <th>Dendritic cells resting</th>\n",
       "      <th>Dendritic cells activated</th>\n",
       "      <th>Mast cells resting</th>\n",
       "      <th>Mast cells activated</th>\n",
       "      <th>Eosinophils</th>\n",
       "      <th>Neutrophils</th>\n",
       "    </tr>\n",
       "    <tr>\n",
       "      <th>id</th>\n",
       "      <th></th>\n",
       "      <th></th>\n",
       "      <th></th>\n",
       "      <th></th>\n",
       "      <th></th>\n",
       "      <th></th>\n",
       "      <th></th>\n",
       "      <th></th>\n",
       "      <th></th>\n",
       "      <th></th>\n",
       "      <th></th>\n",
       "      <th></th>\n",
       "      <th></th>\n",
       "      <th></th>\n",
       "      <th></th>\n",
       "      <th></th>\n",
       "      <th></th>\n",
       "      <th></th>\n",
       "      <th></th>\n",
       "      <th></th>\n",
       "      <th></th>\n",
       "    </tr>\n",
       "  </thead>\n",
       "  <tbody>\n",
       "    <tr>\n",
       "      <th>TCGA-05-4249-01A-01R-1107-07</th>\n",
       "      <td>0.002131</td>\n",
       "      <td>0.023685</td>\n",
       "      <td>0.079791</td>\n",
       "      <td>0.030423</td>\n",
       "      <td>0.0</td>\n",
       "      <td>0.097957</td>\n",
       "      <td>0.000000</td>\n",
       "      <td>0.034192</td>\n",
       "      <td>0.029121</td>\n",
       "      <td>0.000000</td>\n",
       "      <td>...</td>\n",
       "      <td>0.010681</td>\n",
       "      <td>0.009018</td>\n",
       "      <td>0.038816</td>\n",
       "      <td>0.116087</td>\n",
       "      <td>0.351658</td>\n",
       "      <td>0.007345</td>\n",
       "      <td>0.139602</td>\n",
       "      <td>0.0</td>\n",
       "      <td>0.000000</td>\n",
       "      <td>0.023269</td>\n",
       "    </tr>\n",
       "    <tr>\n",
       "      <th>TCGA-05-4250-01A-01R-1107-07</th>\n",
       "      <td>0.019897</td>\n",
       "      <td>0.000000</td>\n",
       "      <td>0.028132</td>\n",
       "      <td>0.121202</td>\n",
       "      <td>0.0</td>\n",
       "      <td>0.153461</td>\n",
       "      <td>0.060040</td>\n",
       "      <td>0.054603</td>\n",
       "      <td>0.000000</td>\n",
       "      <td>0.001783</td>\n",
       "      <td>...</td>\n",
       "      <td>0.004493</td>\n",
       "      <td>0.055822</td>\n",
       "      <td>0.094816</td>\n",
       "      <td>0.196107</td>\n",
       "      <td>0.042287</td>\n",
       "      <td>0.000000</td>\n",
       "      <td>0.070442</td>\n",
       "      <td>0.0</td>\n",
       "      <td>0.002305</td>\n",
       "      <td>0.010245</td>\n",
       "    </tr>\n",
       "    <tr>\n",
       "      <th>TCGA-05-4382-01A-01R-1206-07</th>\n",
       "      <td>0.000000</td>\n",
       "      <td>0.000000</td>\n",
       "      <td>0.144794</td>\n",
       "      <td>0.038011</td>\n",
       "      <td>0.0</td>\n",
       "      <td>0.141085</td>\n",
       "      <td>0.015311</td>\n",
       "      <td>0.001384</td>\n",
       "      <td>0.027211</td>\n",
       "      <td>0.000000</td>\n",
       "      <td>...</td>\n",
       "      <td>0.000000</td>\n",
       "      <td>0.218159</td>\n",
       "      <td>0.057370</td>\n",
       "      <td>0.299404</td>\n",
       "      <td>0.003916</td>\n",
       "      <td>0.000000</td>\n",
       "      <td>0.014265</td>\n",
       "      <td>0.0</td>\n",
       "      <td>0.000000</td>\n",
       "      <td>0.025810</td>\n",
       "    </tr>\n",
       "  </tbody>\n",
       "</table>\n",
       "<p>3 rows × 22 columns</p>\n",
       "</div>"
      ],
      "text/plain": [
       "                              B cells naive  B cells memory  Plasma cells  \\\n",
       "id                                                                          \n",
       "TCGA-05-4249-01A-01R-1107-07       0.002131        0.023685      0.079791   \n",
       "TCGA-05-4250-01A-01R-1107-07       0.019897        0.000000      0.028132   \n",
       "TCGA-05-4382-01A-01R-1206-07       0.000000        0.000000      0.144794   \n",
       "\n",
       "                              T cells CD8  T cells CD4 naive  \\\n",
       "id                                                             \n",
       "TCGA-05-4249-01A-01R-1107-07     0.030423                0.0   \n",
       "TCGA-05-4250-01A-01R-1107-07     0.121202                0.0   \n",
       "TCGA-05-4382-01A-01R-1206-07     0.038011                0.0   \n",
       "\n",
       "                              T cells CD4 memory resting  \\\n",
       "id                                                         \n",
       "TCGA-05-4249-01A-01R-1107-07                    0.097957   \n",
       "TCGA-05-4250-01A-01R-1107-07                    0.153461   \n",
       "TCGA-05-4382-01A-01R-1206-07                    0.141085   \n",
       "\n",
       "                              T cells CD4 memory activated  \\\n",
       "id                                                           \n",
       "TCGA-05-4249-01A-01R-1107-07                      0.000000   \n",
       "TCGA-05-4250-01A-01R-1107-07                      0.060040   \n",
       "TCGA-05-4382-01A-01R-1206-07                      0.015311   \n",
       "\n",
       "                              T cells follicular helper  \\\n",
       "id                                                        \n",
       "TCGA-05-4249-01A-01R-1107-07                   0.034192   \n",
       "TCGA-05-4250-01A-01R-1107-07                   0.054603   \n",
       "TCGA-05-4382-01A-01R-1206-07                   0.001384   \n",
       "\n",
       "                              T cells regulatory (Tregs)  T cells gamma delta  \\\n",
       "id                                                                              \n",
       "TCGA-05-4249-01A-01R-1107-07                    0.029121             0.000000   \n",
       "TCGA-05-4250-01A-01R-1107-07                    0.000000             0.001783   \n",
       "TCGA-05-4382-01A-01R-1206-07                    0.027211             0.000000   \n",
       "\n",
       "                              ...  Monocytes  Macrophages M0  Macrophages M1  \\\n",
       "id                            ...                                              \n",
       "TCGA-05-4249-01A-01R-1107-07  ...   0.010681        0.009018        0.038816   \n",
       "TCGA-05-4250-01A-01R-1107-07  ...   0.004493        0.055822        0.094816   \n",
       "TCGA-05-4382-01A-01R-1206-07  ...   0.000000        0.218159        0.057370   \n",
       "\n",
       "                              Macrophages M2  Dendritic cells resting  \\\n",
       "id                                                                      \n",
       "TCGA-05-4249-01A-01R-1107-07        0.116087                 0.351658   \n",
       "TCGA-05-4250-01A-01R-1107-07        0.196107                 0.042287   \n",
       "TCGA-05-4382-01A-01R-1206-07        0.299404                 0.003916   \n",
       "\n",
       "                              Dendritic cells activated  Mast cells resting  \\\n",
       "id                                                                            \n",
       "TCGA-05-4249-01A-01R-1107-07                   0.007345            0.139602   \n",
       "TCGA-05-4250-01A-01R-1107-07                   0.000000            0.070442   \n",
       "TCGA-05-4382-01A-01R-1206-07                   0.000000            0.014265   \n",
       "\n",
       "                              Mast cells activated  Eosinophils  Neutrophils  \n",
       "id                                                                            \n",
       "TCGA-05-4249-01A-01R-1107-07                   0.0     0.000000     0.023269  \n",
       "TCGA-05-4250-01A-01R-1107-07                   0.0     0.002305     0.010245  \n",
       "TCGA-05-4382-01A-01R-1206-07                   0.0     0.000000     0.025810  \n",
       "\n",
       "[3 rows x 22 columns]"
      ]
     },
     "execution_count": 6,
     "metadata": {},
     "output_type": "execute_result"
    }
   ],
   "source": [
    "ALL = pd.read_csv(os.path.join(old_path,'ALL.csv'),index_col=0)   # the old ALL csv containing kic v1 \n",
    "ALL.head(3)"
   ]
  },
  {
   "cell_type": "code",
   "execution_count": 7,
   "metadata": {},
   "outputs": [],
   "source": [
    "KIC = pd.read_csv('/home/shuying/Documents/ZwZ/pan-cancer-leukocyte/data/leukocyte_ratio/kidney.csv',index_col=0)\n",
    "KIC = KIC.dropna(axis=1,how='all')"
   ]
  },
  {
   "cell_type": "code",
   "execution_count": 8,
   "metadata": {},
   "outputs": [],
   "source": [
    "# read KIC v2 data \n",
    "KIC2 = pd.read_csv(os.path.join(PATH.leukocyte_path,'KIC2.csv'),index_col=0)\n",
    "KIC2 = KIC2.drop(labels=['id(保留前12字符)'],axis=1)\n",
    "KIC2.iloc[:,:] = KIC2.values / 100"
   ]
  },
  {
   "cell_type": "code",
   "execution_count": 16,
   "metadata": {},
   "outputs": [],
   "source": [
    "KIC2.to_csv(os.path.join(PATH.leukocyte_path,'KIC2.csv'),index=True)"
   ]
  },
  {
   "cell_type": "markdown",
   "metadata": {},
   "source": [
    "# droping"
   ]
  },
  {
   "cell_type": "code",
   "execution_count": 10,
   "metadata": {},
   "outputs": [
    {
     "data": {
      "text/plain": [
       "536"
      ]
     },
     "execution_count": 10,
     "metadata": {},
     "output_type": "execute_result"
    }
   ],
   "source": [
    "old_kic_index=[iid for iid in KIC.index if iid in ALL.index] # should be the intersect\n",
    "len(old_kic_index)"
   ]
  },
  {
   "cell_type": "code",
   "execution_count": 11,
   "metadata": {},
   "outputs": [
    {
     "data": {
      "text/plain": [
       "(2613, 22)"
      ]
     },
     "execution_count": 11,
     "metadata": {},
     "output_type": "execute_result"
    }
   ],
   "source": [
    "ALL = ALL.drop(labels=old_kic_index,axis=0); ALL.shape"
   ]
  },
  {
   "cell_type": "code",
   "execution_count": 12,
   "metadata": {},
   "outputs": [
    {
     "data": {
      "text/plain": [
       "(3167, 22)"
      ]
     },
     "execution_count": 12,
     "metadata": {},
     "output_type": "execute_result"
    }
   ],
   "source": [
    "new_ALL = ALL.append(KIC2); new_ALL.shape"
   ]
  },
  {
   "cell_type": "code",
   "execution_count": 13,
   "metadata": {},
   "outputs": [],
   "source": [
    "new_ALL.to_csv(os.path.join(PATH.leukocyte_path,'ALL.csv'),index=True)"
   ]
  },
  {
   "cell_type": "code",
   "execution_count": 14,
   "metadata": {},
   "outputs": [
    {
     "data": {
      "text/plain": [
       "3167"
      ]
     },
     "execution_count": 14,
     "metadata": {},
     "output_type": "execute_result"
    }
   ],
   "source": [
    "2613+554"
   ]
  },
  {
   "cell_type": "code",
   "execution_count": null,
   "metadata": {},
   "outputs": [],
   "source": []
  }
 ],
 "metadata": {
  "kernelspec": {
   "display_name": "python3.7",
   "language": "python",
   "name": "python3.7"
  },
  "language_info": {
   "codemirror_mode": {
    "name": "ipython",
    "version": 3
   },
   "file_extension": ".py",
   "mimetype": "text/x-python",
   "name": "python",
   "nbconvert_exporter": "python",
   "pygments_lexer": "ipython3",
   "version": "3.7.6"
  }
 },
 "nbformat": 4,
 "nbformat_minor": 4
}
